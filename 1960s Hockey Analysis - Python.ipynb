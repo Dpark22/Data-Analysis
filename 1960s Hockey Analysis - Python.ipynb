{
 "cells": [
  {
   "cell_type": "code",
   "execution_count": null,
   "metadata": {},
   "outputs": [],
   "source": [
    "# Part 1"
   ]
  },
  {
   "cell_type": "code",
   "execution_count": 89,
   "metadata": {},
   "outputs": [],
   "source": [
    "import pandas as pd\n",
    "import numpy as np\n",
    "import matplotlib.pyplot as plt"
   ]
  },
  {
   "cell_type": "code",
   "execution_count": 67,
   "metadata": {},
   "outputs": [],
   "source": [
    "df = pd.read_csv(\"montrealCanadiensScoring-1960.csv\")"
   ]
  },
  {
   "cell_type": "code",
   "execution_count": 92,
   "metadata": {},
   "outputs": [],
   "source": [
    "Canadiens_df = pd.DataFrame(df)"
   ]
  },
  {
   "cell_type": "code",
   "execution_count": 93,
   "metadata": {},
   "outputs": [
    {
     "name": "stdout",
     "output_type": "stream",
     "text": [
      "              Player   Age  Pos    GP     G     A   +/-    PIM    EV    PP  \\\n",
      "0   Bernie Geoffrion  29.0   RW  64.0  50.0  45.0   3.0   27.0  34.0  16.0   \n",
      "1      Jean Beliveau  29.0    C  69.0  32.0  58.0  10.0   57.0  19.0  13.0   \n",
      "2       Dickie Moore  30.0   LW  57.0  35.0  34.0  11.0   62.0  22.0  13.0   \n",
      "3      Henri Richard  24.0    C  70.0  24.0  44.0  18.0   91.0  20.0   4.0   \n",
      "4       Marcel Bonin  28.0    W  65.0  16.0  35.0  10.0   43.0  11.0   5.0   \n",
      "5         Bill Hicke  22.0   RW  70.0  18.0  45.0  14.0   29.0  15.0   3.0   \n",
      "6        Doug Harvey  36.0    D  58.0   6.0  39.0  16.0   48.0   5.0   1.0   \n",
      "7    Ralph Backstrom  23.0    C  69.0  12.0  20.0   3.0   44.0  11.0   1.0   \n",
      "8       Don Marshall  28.0    C  70.0  14.0  17.0  19.0    8.0   9.0   2.0   \n",
      "9    Jean-Guy Talbot  28.0    D  70.0   5.0  26.0  19.0  143.0   5.0   0.0   \n",
      "10  Jean-Guy Gendron  26.0   LW  44.0   9.0  12.0   5.0   51.0   9.0   0.0   \n",
      "11   Gilles Tremblay  22.0   LW  45.0   7.0  11.0   2.0    4.0   6.0   1.0   \n",
      "12      Tom Johnson*  32.0    D  70.0   1.0  15.0  17.0   54.0   0.0   0.0   \n",
      "13    Claude Provost  27.0   RW  49.0  11.0   4.0  -4.0   32.0   7.0   1.0   \n",
      "14   Albert Langlois  26.0    D  61.0   1.0  12.0  24.0   56.0   1.0   0.0   \n",
      "15      Phil Goyette  27.0    C  62.0   7.0   4.0  -2.0    2.0   7.0   0.0   \n",
      "16   Andre Pronovost  24.0   LW  21.0   1.0   5.0  -8.0    4.0   1.0   0.0   \n",
      "17        Bob Turner  27.0    D  60.0   2.0   2.0  -4.0   16.0   1.0   0.0   \n",
      "18     J.C. Tremblay  22.0    D  30.0   1.0   3.0   3.0   18.0   1.0   0.0   \n",
      "19    Bobby Rousseau  20.0   RW  15.0   1.0   2.0   0.0    4.0   1.0   0.0   \n",
      "20  Cliff Pennington  20.0    C   4.0   1.0   0.0   0.0    0.0   0.0   1.0   \n",
      "21     Jean Gauthier  23.0    D   4.0   0.0   1.0   2.0    8.0   0.0   0.0   \n",
      "22    Wayne Connelly  21.0    C   3.0   0.0   0.0  -3.0    0.0   0.0   0.0   \n",
      "23         Glen Skov  30.0    C   3.0   0.0   0.0  -1.0    0.0   0.0   0.0   \n",
      "24               NaN   NaN  NaN   NaN   NaN   NaN   NaN    NaN   NaN   NaN   \n",
      "25               NaN   NaN  NaN   NaN   NaN   NaN   NaN    NaN   NaN   NaN   \n",
      "\n",
      "     SH    GW      S  \n",
      "0   0.0  12.0  316.0  \n",
      "1   0.0  11.0  324.0  \n",
      "2   0.0   2.0  188.0  \n",
      "3   0.0   4.0  274.0  \n",
      "4   0.0   3.0  124.0  \n",
      "5   0.0   2.0  151.0  \n",
      "6   0.0   0.0   63.0  \n",
      "7   0.0   0.0  152.0  \n",
      "8   3.0   3.0  127.0  \n",
      "9   0.0   1.0   80.0  \n",
      "10  0.0   2.0   75.0  \n",
      "11  0.0   0.0   75.0  \n",
      "12  1.0   0.0   83.0  \n",
      "13  3.0   0.0  131.0  \n",
      "14  0.0   0.0   57.0  \n",
      "15  0.0   1.0   89.0  \n",
      "16  0.0   0.0   39.0  \n",
      "17  1.0   0.0   17.0  \n",
      "18  0.0   0.0   47.0  \n",
      "19  0.0   0.0   34.0  \n",
      "20  0.0   0.0    7.0  \n",
      "21  0.0   0.0    3.0  \n",
      "22  0.0   0.0    8.0  \n",
      "23  0.0   0.0    NaN  \n",
      "24  NaN   NaN    NaN  \n",
      "25  NaN   NaN    NaN  \n"
     ]
    }
   ],
   "source": [
    "print(Canadiens_df)"
   ]
  },
  {
   "cell_type": "code",
   "execution_count": 38,
   "metadata": {},
   "outputs": [
    {
     "name": "stdout",
     "output_type": "stream",
     "text": [
      "The sum of all goals is:  254.0\n"
     ]
    }
   ],
   "source": [
    "ScoreSum = round( CanadiensScore[\"G\"].sum(),2)\n",
    "print (\"The sum of all goals is: \", ScoreSum)\n",
    "\n"
   ]
  },
  {
   "cell_type": "code",
   "execution_count": 39,
   "metadata": {},
   "outputs": [
    {
     "name": "stdout",
     "output_type": "stream",
     "text": [
      "The mean +/- is  6.42\n"
     ]
    }
   ],
   "source": [
    "MeanPlusMin = round (CanadiensScore[\"+/-\"].mean(),2)\n",
    "print (\"The mean +/- is \", MeanPlusMin)"
   ]
  },
  {
   "cell_type": "code",
   "execution_count": 40,
   "metadata": {},
   "outputs": [
    {
     "name": "stdout",
     "output_type": "stream",
     "text": [
      "The Mean Penalty Minutes is:  2.54\n"
     ]
    }
   ],
   "source": [
    "MeanPP = round (CanadiensScore[\"PP\"].mean(),2)\n",
    "print(\"The Mean Penalty Minutes is: \", MeanPP)"
   ]
  },
  {
   "cell_type": "code",
   "execution_count": 56,
   "metadata": {},
   "outputs": [
    {
     "name": "stdout",
     "output_type": "stream",
     "text": [
      "The Shooting Percentage for each player is: [0.15822785 0.09876543 0.18617021 0.08759124 0.12903226 0.1192053\n",
      " 0.0952381  0.07894737 0.11023622 0.0625     0.12       0.09333333\n",
      " 0.01204819 0.08396947 0.01754386 0.07865169 0.02564103 0.11764706\n",
      " 0.0212766  0.02941176 0.14285714 0.         0.                nan\n",
      "        nan        nan]\n"
     ]
    }
   ],
   "source": [
    "ShootingPer = CanadiensScore[\"G\"] / CanadiensScore[\"S\"]\n",
    "ShootingPerArray = np.array(ShootingPer)\n",
    "print (\"The Shooting Percentage for each player is:\", ShootingPerArray)"
   ]
  },
  {
   "cell_type": "code",
   "execution_count": 55,
   "metadata": {},
   "outputs": [
    {
     "name": "stdout",
     "output_type": "stream",
     "text": [
      "The average PPG for each player is: [1.484375   1.30434783 1.21052632 0.97142857 0.78461538 0.9\n",
      " 0.77586207 0.46376812 0.44285714 0.44285714 0.47727273 0.4\n",
      " 0.22857143 0.30612245 0.21311475 0.17741935 0.28571429 0.06666667\n",
      " 0.13333333 0.2        0.25       0.25       0.         0.\n",
      "        nan        nan]\n"
     ]
    }
   ],
   "source": [
    "PPG = (CanadiensScore [\"G\"] + CanadiensScore[\"A\"])/ CanadiensScore[\"GP\"]\n",
    "PPGArray=np.array(PPG)\n",
    "print(\"The average PPG for each player is:\", PPGArray)"
   ]
  },
  {
   "cell_type": "code",
   "execution_count": null,
   "metadata": {},
   "outputs": [],
   "source": [
    "# Part 2"
   ]
  },
  {
   "cell_type": "code",
   "execution_count": 91,
   "metadata": {},
   "outputs": [
    {
     "name": "stdout",
     "output_type": "stream",
     "text": [
      "              Player   Age Pos    GP     G     A   +/-   PIM    EV    PP   SH  \\\n",
      "0   Bernie Geoffrion  29.0  RW  64.0  50.0  45.0   3.0  27.0  34.0  16.0  0.0   \n",
      "1      Jean Beliveau  29.0   C  69.0  32.0  58.0  10.0  57.0  19.0  13.0  0.0   \n",
      "2       Dickie Moore  30.0  LW  57.0  35.0  34.0  11.0  62.0  22.0  13.0  0.0   \n",
      "3      Henri Richard  24.0   C  70.0  24.0  44.0  18.0  91.0  20.0   4.0  0.0   \n",
      "4       Marcel Bonin  28.0   W  65.0  16.0  35.0  10.0  43.0  11.0   5.0  0.0   \n",
      "..               ...   ...  ..   ...   ...   ...   ...   ...   ...   ...  ...   \n",
      "17       Larry Regan  30.0   W  37.0   3.0   5.0   0.0   2.0   1.0   0.0  2.0   \n",
      "18       Gerry Ehman  28.0  RW  14.0   1.0   1.0   3.0   2.0   1.0   0.0  0.0   \n",
      "19     Johnny Wilson  31.0  LW   3.0   0.0   1.0   0.0   0.0   0.0   0.0  0.0   \n",
      "20   Garry Edmundson  28.0  LW   3.0   0.0   0.0  -1.0   0.0   0.0   0.0  0.0   \n",
      "21      Gary Jarrett  18.0  LW   1.0   0.0   0.0   0.0   0.0   0.0   0.0  0.0   \n",
      "\n",
      "      GW      S  \n",
      "0   12.0  316.0  \n",
      "1   11.0  324.0  \n",
      "2    2.0  188.0  \n",
      "3    4.0  274.0  \n",
      "4    3.0  124.0  \n",
      "..   ...    ...  \n",
      "17   0.0   23.0  \n",
      "18   0.0   15.0  \n",
      "19   0.0    9.0  \n",
      "20   0.0    0.0  \n",
      "21   0.0    0.0  \n",
      "\n",
      "[153 rows x 13 columns]\n"
     ]
    }
   ],
   "source": [
    "df1 = pd.read_csv(\"BostonBruinsScoring-1960.csv\")\n",
    "Boston_df = pd.DataFrame(df1)\n",
    "df2 = pd.read_csv(\"ChicagoBlackHawksScoring-1960.csv\")\n",
    "Chicago_df = pd.DataFrame(df2)\n",
    "df3 = pd.read_csv(\"DetroitRedWingsScoring-1960.csv\")\n",
    "Detroit_df = pd.DataFrame(df3)\n",
    "df4 = pd.read_csv(\"NewYorkRangersScoring-1960.csv\")\n",
    "NY_df = pd.DataFrame(df4)\n",
    "df5 = pd.read_csv(\"TorontoMapleLeafsScoring-1960.csv\")\n",
    "Toronto_df = pd.DataFrame(df5)\n",
    "Combined_df = pd.concat([df,df1,df2,df3,df4,df5])\n",
    "print(Combined_df)"
   ]
  },
  {
   "cell_type": "code",
   "execution_count": 82,
   "metadata": {},
   "outputs": [
    {
     "name": "stdout",
     "output_type": "stream",
     "text": [
      "0     95.0\n",
      "1     90.0\n",
      "2     69.0\n",
      "3     68.0\n",
      "4     51.0\n",
      "      ... \n",
      "17     8.0\n",
      "18     2.0\n",
      "19     1.0\n",
      "20     0.0\n",
      "21     0.0\n",
      "Name: Points, Length: 153, dtype: float64\n"
     ]
    }
   ],
   "source": [
    "PointTotal = Combined_df[\"G\"] + Combined_df[\"A\"]\n",
    "Combined_df[\"Points\"] = PointTotal\n",
    "print (Combined_df[\"Points\"])"
   ]
  },
  {
   "cell_type": "code",
   "execution_count": 87,
   "metadata": {},
   "outputs": [
    {
     "name": "stdout",
     "output_type": "stream",
     "text": [
      "              Player   Age  Pos    GP     G     A   +/-    PIM    EV    PP  \\\n",
      "0   Bernie Geoffrion  29.0   RW  64.0  50.0  45.0   3.0   27.0  34.0  16.0   \n",
      "1      Jean Beliveau  29.0    C  69.0  32.0  58.0  10.0   57.0  19.0  13.0   \n",
      "0    Frank Mahovlich  23.0    C  70.0  48.0  36.0  23.0  131.0  41.0   7.0   \n",
      "0     Andy Bathgate*  28.0   RW  70.0  29.0  48.0 -12.0   22.0  22.0   6.0   \n",
      "0       Gordie Howe*  32.0   RW  64.0  23.0  49.0  -5.0   30.0  15.0   6.0   \n",
      "..               ...   ...  ...   ...   ...   ...   ...    ...   ...   ...   \n",
      "17       Wayne Hicks  23.0   RW   1.0   0.0   0.0   0.0    0.0   0.0   0.0   \n",
      "23      Billy Carter  23.0    C   8.0   0.0   0.0  -3.0    0.0   0.0   0.0   \n",
      "21      Gary Jarrett  18.0   LW   1.0   0.0   0.0   0.0    0.0   0.0   0.0   \n",
      "24               NaN   NaN  NaN   NaN   NaN   NaN   NaN    NaN   NaN   NaN   \n",
      "25               NaN   NaN  NaN   NaN   NaN   NaN   NaN    NaN   NaN   NaN   \n",
      "\n",
      "     SH    GW      S  Points  \n",
      "0   0.0  12.0  316.0    95.0  \n",
      "1   0.0  11.0  324.0    90.0  \n",
      "0   0.0  10.0  223.0    84.0  \n",
      "0   1.0   1.0  304.0    77.0  \n",
      "0   2.0   4.0  357.0    72.0  \n",
      "..  ...   ...    ...     ...  \n",
      "17  0.0   0.0    2.0     0.0  \n",
      "23  0.0   0.0    3.0     0.0  \n",
      "21  0.0   0.0    0.0     0.0  \n",
      "24  NaN   NaN    NaN     NaN  \n",
      "25  NaN   NaN    NaN     NaN  \n",
      "\n",
      "[153 rows x 14 columns]\n"
     ]
    }
   ],
   "source": [
    "df_sorted = Combined_df.sort_values(by=[\"Points\"], ascending = False)\n",
    "print(df_sorted)"
   ]
  },
  {
   "cell_type": "code",
   "execution_count": 88,
   "metadata": {
    "scrolled": true
   },
   "outputs": [
    {
     "data": {
      "text/html": [
       "<div>\n",
       "<style scoped>\n",
       "    .dataframe tbody tr th:only-of-type {\n",
       "        vertical-align: middle;\n",
       "    }\n",
       "\n",
       "    .dataframe tbody tr th {\n",
       "        vertical-align: top;\n",
       "    }\n",
       "\n",
       "    .dataframe thead th {\n",
       "        text-align: right;\n",
       "    }\n",
       "</style>\n",
       "<table border=\"1\" class=\"dataframe\">\n",
       "  <thead>\n",
       "    <tr style=\"text-align: right;\">\n",
       "      <th></th>\n",
       "      <th>Player</th>\n",
       "      <th>Age</th>\n",
       "      <th>Pos</th>\n",
       "      <th>GP</th>\n",
       "      <th>G</th>\n",
       "      <th>A</th>\n",
       "      <th>+/-</th>\n",
       "      <th>PIM</th>\n",
       "      <th>EV</th>\n",
       "      <th>PP</th>\n",
       "      <th>SH</th>\n",
       "      <th>GW</th>\n",
       "      <th>S</th>\n",
       "      <th>Points</th>\n",
       "    </tr>\n",
       "  </thead>\n",
       "  <tbody>\n",
       "    <tr>\n",
       "      <td>0</td>\n",
       "      <td>Bernie Geoffrion</td>\n",
       "      <td>29.0</td>\n",
       "      <td>RW</td>\n",
       "      <td>64.0</td>\n",
       "      <td>50.0</td>\n",
       "      <td>45.0</td>\n",
       "      <td>3.0</td>\n",
       "      <td>27.0</td>\n",
       "      <td>34.0</td>\n",
       "      <td>16.0</td>\n",
       "      <td>0.0</td>\n",
       "      <td>12.0</td>\n",
       "      <td>316.0</td>\n",
       "      <td>95.0</td>\n",
       "    </tr>\n",
       "    <tr>\n",
       "      <td>1</td>\n",
       "      <td>Jean Beliveau</td>\n",
       "      <td>29.0</td>\n",
       "      <td>C</td>\n",
       "      <td>69.0</td>\n",
       "      <td>32.0</td>\n",
       "      <td>58.0</td>\n",
       "      <td>10.0</td>\n",
       "      <td>57.0</td>\n",
       "      <td>19.0</td>\n",
       "      <td>13.0</td>\n",
       "      <td>0.0</td>\n",
       "      <td>11.0</td>\n",
       "      <td>324.0</td>\n",
       "      <td>90.0</td>\n",
       "    </tr>\n",
       "    <tr>\n",
       "      <td>0</td>\n",
       "      <td>Frank Mahovlich</td>\n",
       "      <td>23.0</td>\n",
       "      <td>C</td>\n",
       "      <td>70.0</td>\n",
       "      <td>48.0</td>\n",
       "      <td>36.0</td>\n",
       "      <td>23.0</td>\n",
       "      <td>131.0</td>\n",
       "      <td>41.0</td>\n",
       "      <td>7.0</td>\n",
       "      <td>0.0</td>\n",
       "      <td>10.0</td>\n",
       "      <td>223.0</td>\n",
       "      <td>84.0</td>\n",
       "    </tr>\n",
       "    <tr>\n",
       "      <td>0</td>\n",
       "      <td>Andy Bathgate*</td>\n",
       "      <td>28.0</td>\n",
       "      <td>RW</td>\n",
       "      <td>70.0</td>\n",
       "      <td>29.0</td>\n",
       "      <td>48.0</td>\n",
       "      <td>-12.0</td>\n",
       "      <td>22.0</td>\n",
       "      <td>22.0</td>\n",
       "      <td>6.0</td>\n",
       "      <td>1.0</td>\n",
       "      <td>1.0</td>\n",
       "      <td>304.0</td>\n",
       "      <td>77.0</td>\n",
       "    </tr>\n",
       "    <tr>\n",
       "      <td>0</td>\n",
       "      <td>Gordie Howe*</td>\n",
       "      <td>32.0</td>\n",
       "      <td>RW</td>\n",
       "      <td>64.0</td>\n",
       "      <td>23.0</td>\n",
       "      <td>49.0</td>\n",
       "      <td>-5.0</td>\n",
       "      <td>30.0</td>\n",
       "      <td>15.0</td>\n",
       "      <td>6.0</td>\n",
       "      <td>2.0</td>\n",
       "      <td>4.0</td>\n",
       "      <td>357.0</td>\n",
       "      <td>72.0</td>\n",
       "    </tr>\n",
       "    <tr>\n",
       "      <td>1</td>\n",
       "      <td>Red Kelly</td>\n",
       "      <td>33.0</td>\n",
       "      <td>C</td>\n",
       "      <td>64.0</td>\n",
       "      <td>20.0</td>\n",
       "      <td>50.0</td>\n",
       "      <td>19.0</td>\n",
       "      <td>12.0</td>\n",
       "      <td>16.0</td>\n",
       "      <td>3.0</td>\n",
       "      <td>1.0</td>\n",
       "      <td>0.0</td>\n",
       "      <td>212.0</td>\n",
       "      <td>70.0</td>\n",
       "    </tr>\n",
       "    <tr>\n",
       "      <td>1</td>\n",
       "      <td>Norm Ullman*</td>\n",
       "      <td>25.0</td>\n",
       "      <td>C</td>\n",
       "      <td>70.0</td>\n",
       "      <td>28.0</td>\n",
       "      <td>42.0</td>\n",
       "      <td>13.0</td>\n",
       "      <td>34.0</td>\n",
       "      <td>23.0</td>\n",
       "      <td>5.0</td>\n",
       "      <td>0.0</td>\n",
       "      <td>5.0</td>\n",
       "      <td>205.0</td>\n",
       "      <td>70.0</td>\n",
       "    </tr>\n",
       "    <tr>\n",
       "      <td>2</td>\n",
       "      <td>Dickie Moore</td>\n",
       "      <td>30.0</td>\n",
       "      <td>LW</td>\n",
       "      <td>57.0</td>\n",
       "      <td>35.0</td>\n",
       "      <td>34.0</td>\n",
       "      <td>11.0</td>\n",
       "      <td>62.0</td>\n",
       "      <td>22.0</td>\n",
       "      <td>13.0</td>\n",
       "      <td>0.0</td>\n",
       "      <td>2.0</td>\n",
       "      <td>188.0</td>\n",
       "      <td>69.0</td>\n",
       "    </tr>\n",
       "    <tr>\n",
       "      <td>3</td>\n",
       "      <td>Henri Richard</td>\n",
       "      <td>24.0</td>\n",
       "      <td>C</td>\n",
       "      <td>70.0</td>\n",
       "      <td>24.0</td>\n",
       "      <td>44.0</td>\n",
       "      <td>18.0</td>\n",
       "      <td>91.0</td>\n",
       "      <td>20.0</td>\n",
       "      <td>4.0</td>\n",
       "      <td>0.0</td>\n",
       "      <td>4.0</td>\n",
       "      <td>274.0</td>\n",
       "      <td>68.0</td>\n",
       "    </tr>\n",
       "    <tr>\n",
       "      <td>5</td>\n",
       "      <td>Bill Hicke</td>\n",
       "      <td>22.0</td>\n",
       "      <td>RW</td>\n",
       "      <td>70.0</td>\n",
       "      <td>18.0</td>\n",
       "      <td>45.0</td>\n",
       "      <td>14.0</td>\n",
       "      <td>29.0</td>\n",
       "      <td>15.0</td>\n",
       "      <td>3.0</td>\n",
       "      <td>0.0</td>\n",
       "      <td>2.0</td>\n",
       "      <td>151.0</td>\n",
       "      <td>63.0</td>\n",
       "    </tr>\n",
       "    <tr>\n",
       "      <td>2</td>\n",
       "      <td>Alex Delvecchio*</td>\n",
       "      <td>28.0</td>\n",
       "      <td>C</td>\n",
       "      <td>70.0</td>\n",
       "      <td>27.0</td>\n",
       "      <td>35.0</td>\n",
       "      <td>0.0</td>\n",
       "      <td>26.0</td>\n",
       "      <td>20.0</td>\n",
       "      <td>5.0</td>\n",
       "      <td>2.0</td>\n",
       "      <td>3.0</td>\n",
       "      <td>268.0</td>\n",
       "      <td>62.0</td>\n",
       "    </tr>\n",
       "    <tr>\n",
       "      <td>0</td>\n",
       "      <td>Bill Hay</td>\n",
       "      <td>25.0</td>\n",
       "      <td>C</td>\n",
       "      <td>69.0</td>\n",
       "      <td>11.0</td>\n",
       "      <td>48.0</td>\n",
       "      <td>0.0</td>\n",
       "      <td>45.0</td>\n",
       "      <td>7.0</td>\n",
       "      <td>4.0</td>\n",
       "      <td>0.0</td>\n",
       "      <td>0.0</td>\n",
       "      <td>183.0</td>\n",
       "      <td>59.0</td>\n",
       "    </tr>\n",
       "    <tr>\n",
       "      <td>2</td>\n",
       "      <td>Bob Nevin</td>\n",
       "      <td>22.0</td>\n",
       "      <td>RW</td>\n",
       "      <td>68.0</td>\n",
       "      <td>21.0</td>\n",
       "      <td>37.0</td>\n",
       "      <td>26.0</td>\n",
       "      <td>13.0</td>\n",
       "      <td>15.0</td>\n",
       "      <td>5.0</td>\n",
       "      <td>1.0</td>\n",
       "      <td>5.0</td>\n",
       "      <td>143.0</td>\n",
       "      <td>58.0</td>\n",
       "    </tr>\n",
       "    <tr>\n",
       "      <td>1</td>\n",
       "      <td>Bobby Hull</td>\n",
       "      <td>22.0</td>\n",
       "      <td>LW</td>\n",
       "      <td>67.0</td>\n",
       "      <td>31.0</td>\n",
       "      <td>25.0</td>\n",
       "      <td>5.0</td>\n",
       "      <td>43.0</td>\n",
       "      <td>26.0</td>\n",
       "      <td>5.0</td>\n",
       "      <td>0.0</td>\n",
       "      <td>5.0</td>\n",
       "      <td>309.0</td>\n",
       "      <td>56.0</td>\n",
       "    </tr>\n",
       "    <tr>\n",
       "      <td>1</td>\n",
       "      <td>Andy Hebenton</td>\n",
       "      <td>31.0</td>\n",
       "      <td>RW</td>\n",
       "      <td>70.0</td>\n",
       "      <td>26.0</td>\n",
       "      <td>28.0</td>\n",
       "      <td>-20.0</td>\n",
       "      <td>10.0</td>\n",
       "      <td>16.0</td>\n",
       "      <td>8.0</td>\n",
       "      <td>2.0</td>\n",
       "      <td>1.0</td>\n",
       "      <td>176.0</td>\n",
       "      <td>54.0</td>\n",
       "    </tr>\n",
       "    <tr>\n",
       "      <td>2</td>\n",
       "      <td>Stan Mikita</td>\n",
       "      <td>20.0</td>\n",
       "      <td>RW</td>\n",
       "      <td>68.0</td>\n",
       "      <td>19.0</td>\n",
       "      <td>34.0</td>\n",
       "      <td>27.0</td>\n",
       "      <td>94.0</td>\n",
       "      <td>15.0</td>\n",
       "      <td>4.0</td>\n",
       "      <td>0.0</td>\n",
       "      <td>5.0</td>\n",
       "      <td>205.0</td>\n",
       "      <td>53.0</td>\n",
       "    </tr>\n",
       "    <tr>\n",
       "      <td>2</td>\n",
       "      <td>Camille Henry</td>\n",
       "      <td>28.0</td>\n",
       "      <td>C</td>\n",
       "      <td>53.0</td>\n",
       "      <td>28.0</td>\n",
       "      <td>25.0</td>\n",
       "      <td>-10.0</td>\n",
       "      <td>8.0</td>\n",
       "      <td>20.0</td>\n",
       "      <td>8.0</td>\n",
       "      <td>0.0</td>\n",
       "      <td>4.0</td>\n",
       "      <td>120.0</td>\n",
       "      <td>53.0</td>\n",
       "    </tr>\n",
       "    <tr>\n",
       "      <td>3</td>\n",
       "      <td>Bert Olmstead</td>\n",
       "      <td>34.0</td>\n",
       "      <td>LW</td>\n",
       "      <td>67.0</td>\n",
       "      <td>18.0</td>\n",
       "      <td>34.0</td>\n",
       "      <td>4.0</td>\n",
       "      <td>84.0</td>\n",
       "      <td>9.0</td>\n",
       "      <td>9.0</td>\n",
       "      <td>0.0</td>\n",
       "      <td>3.0</td>\n",
       "      <td>178.0</td>\n",
       "      <td>52.0</td>\n",
       "    </tr>\n",
       "    <tr>\n",
       "      <td>4</td>\n",
       "      <td>Marcel Bonin</td>\n",
       "      <td>28.0</td>\n",
       "      <td>W</td>\n",
       "      <td>65.0</td>\n",
       "      <td>16.0</td>\n",
       "      <td>35.0</td>\n",
       "      <td>10.0</td>\n",
       "      <td>43.0</td>\n",
       "      <td>11.0</td>\n",
       "      <td>5.0</td>\n",
       "      <td>0.0</td>\n",
       "      <td>3.0</td>\n",
       "      <td>124.0</td>\n",
       "      <td>51.0</td>\n",
       "    </tr>\n",
       "    <tr>\n",
       "      <td>0</td>\n",
       "      <td>Jerry Toppazzini</td>\n",
       "      <td>29.0</td>\n",
       "      <td>RW</td>\n",
       "      <td>67.0</td>\n",
       "      <td>15.0</td>\n",
       "      <td>35.0</td>\n",
       "      <td>-5.0</td>\n",
       "      <td>35.0</td>\n",
       "      <td>13.0</td>\n",
       "      <td>0.0</td>\n",
       "      <td>2.0</td>\n",
       "      <td>1.0</td>\n",
       "      <td>189.0</td>\n",
       "      <td>50.0</td>\n",
       "    </tr>\n",
       "  </tbody>\n",
       "</table>\n",
       "</div>"
      ],
      "text/plain": [
       "             Player   Age Pos    GP     G     A   +/-    PIM    EV    PP   SH  \\\n",
       "0  Bernie Geoffrion  29.0  RW  64.0  50.0  45.0   3.0   27.0  34.0  16.0  0.0   \n",
       "1     Jean Beliveau  29.0   C  69.0  32.0  58.0  10.0   57.0  19.0  13.0  0.0   \n",
       "0   Frank Mahovlich  23.0   C  70.0  48.0  36.0  23.0  131.0  41.0   7.0  0.0   \n",
       "0    Andy Bathgate*  28.0  RW  70.0  29.0  48.0 -12.0   22.0  22.0   6.0  1.0   \n",
       "0      Gordie Howe*  32.0  RW  64.0  23.0  49.0  -5.0   30.0  15.0   6.0  2.0   \n",
       "1         Red Kelly  33.0   C  64.0  20.0  50.0  19.0   12.0  16.0   3.0  1.0   \n",
       "1      Norm Ullman*  25.0   C  70.0  28.0  42.0  13.0   34.0  23.0   5.0  0.0   \n",
       "2      Dickie Moore  30.0  LW  57.0  35.0  34.0  11.0   62.0  22.0  13.0  0.0   \n",
       "3     Henri Richard  24.0   C  70.0  24.0  44.0  18.0   91.0  20.0   4.0  0.0   \n",
       "5        Bill Hicke  22.0  RW  70.0  18.0  45.0  14.0   29.0  15.0   3.0  0.0   \n",
       "2  Alex Delvecchio*  28.0   C  70.0  27.0  35.0   0.0   26.0  20.0   5.0  2.0   \n",
       "0          Bill Hay  25.0   C  69.0  11.0  48.0   0.0   45.0   7.0   4.0  0.0   \n",
       "2         Bob Nevin  22.0  RW  68.0  21.0  37.0  26.0   13.0  15.0   5.0  1.0   \n",
       "1        Bobby Hull  22.0  LW  67.0  31.0  25.0   5.0   43.0  26.0   5.0  0.0   \n",
       "1     Andy Hebenton  31.0  RW  70.0  26.0  28.0 -20.0   10.0  16.0   8.0  2.0   \n",
       "2       Stan Mikita  20.0  RW  68.0  19.0  34.0  27.0   94.0  15.0   4.0  0.0   \n",
       "2     Camille Henry  28.0   C  53.0  28.0  25.0 -10.0    8.0  20.0   8.0  0.0   \n",
       "3     Bert Olmstead  34.0  LW  67.0  18.0  34.0   4.0   84.0   9.0   9.0  0.0   \n",
       "4      Marcel Bonin  28.0   W  65.0  16.0  35.0  10.0   43.0  11.0   5.0  0.0   \n",
       "0  Jerry Toppazzini  29.0  RW  67.0  15.0  35.0  -5.0   35.0  13.0   0.0  2.0   \n",
       "\n",
       "     GW      S  Points  \n",
       "0  12.0  316.0    95.0  \n",
       "1  11.0  324.0    90.0  \n",
       "0  10.0  223.0    84.0  \n",
       "0   1.0  304.0    77.0  \n",
       "0   4.0  357.0    72.0  \n",
       "1   0.0  212.0    70.0  \n",
       "1   5.0  205.0    70.0  \n",
       "2   2.0  188.0    69.0  \n",
       "3   4.0  274.0    68.0  \n",
       "5   2.0  151.0    63.0  \n",
       "2   3.0  268.0    62.0  \n",
       "0   0.0  183.0    59.0  \n",
       "2   5.0  143.0    58.0  \n",
       "1   5.0  309.0    56.0  \n",
       "1   1.0  176.0    54.0  \n",
       "2   5.0  205.0    53.0  \n",
       "2   4.0  120.0    53.0  \n",
       "3   3.0  178.0    52.0  \n",
       "4   3.0  124.0    51.0  \n",
       "0   1.0  189.0    50.0  "
      ]
     },
     "execution_count": 88,
     "metadata": {},
     "output_type": "execute_result"
    }
   ],
   "source": [
    "df_sorted.head(20)"
   ]
  },
  {
   "cell_type": "code",
   "execution_count": null,
   "metadata": {},
   "outputs": [],
   "source": [
    "#Part 3"
   ]
  },
  {
   "cell_type": "code",
   "execution_count": 102,
   "metadata": {},
   "outputs": [
    {
     "name": "stdout",
     "output_type": "stream",
     "text": [
      "254.0\n"
     ]
    }
   ],
   "source": [
    "goals1 = Canadiens_df[\"G\"].sum()\n",
    "goals2 = Boston_df[\"G\"].sum()\n",
    "goals3 = Chicago_df[\"G\"].sum()\n",
    "goals4 = Detroit_df[\"G\"].sum()\n",
    "goals5 = NY_df[\"G\"].sum()\n",
    "goals6 = Toronto_df[\"G\"].sum()\n"
   ]
  },
  {
   "cell_type": "code",
   "execution_count": 120,
   "metadata": {},
   "outputs": [
    {
     "data": {
      "image/png": "[encoded data removed]",
      "text/plain": [
       "<Figure size 432x288 with 1 Axes>"
      ]
     },
     "metadata": {
      "needs_background": "light"
     },
     "output_type": "display_data"
    }
   ],
   "source": [
    "objects = (\"Boston\" , \"Chicago\", \"Detroit\", \"Montreal\", \"NewYork\", \"Toronto\")\n",
    "y_pos = np.arange(len(objects))\n",
    "goals = [goals1, goals2, goals3, goals4, goals5, goals6]\n",
    "\n",
    "plt.bar(y_pos, goals , align = \"center\", alpha= 0.5 )\n",
    "plt.xticks (y_pos, objects)\n",
    "plt.ylabel(\"Total Goals Per Team\")\n",
    "plt.xlabel(\"Teams\")\n",
    "plt.title(\"Total Goals per Team\")\n",
    "plt.savefig(\"TotalGoals.jpg\")\n",
    "plt.show()\n"
   ]
  },
  {
   "cell_type": "code",
   "execution_count": 116,
   "metadata": {},
   "outputs": [],
   "source": [
    "AvgAge1 = Canadiens_df[\"Age\"].median()\n",
    "AvgAge2 = Boston_df[\"Age\"].median()\n",
    "AvgAge3 = Chicago_df[\"Age\"].median()\n",
    "AvgAge4 = Detroit_df[\"Age\"].median()\n",
    "AvgAge5 = NY_df[\"Age\"].median()\n",
    "AvgAge6 = Toronto_df[\"Age\"].median()"
   ]
  },
  {
   "cell_type": "code",
   "execution_count": 121,
   "metadata": {},
   "outputs": [
    {
     "data": {
      "image/png": "[encoded data removed]",
      "text/plain": [
       "<Figure size 432x288 with 1 Axes>"
      ]
     },
     "metadata": {
      "needs_background": "light"
     },
     "output_type": "display_data"
    }
   ],
   "source": [
    "objects = (\"Boston\" , \"Chicago\", \"Detroit\", \"Montreal\", \"NewYork\", \"Toronto\")\n",
    "y_pos = np.arange(len(objects))\n",
    "goals = [AvgAge1, AvgAge2, AvgAge3, AvgAge4, AvgAge5, AvgAge6]\n",
    "\n",
    "plt.bar(y_pos, goals , align = \"center\", alpha= 0.5 )\n",
    "plt.xticks (y_pos, objects)\n",
    "plt.ylabel(\"Average Age\")\n",
    "plt.xlabel(\"Teams\")\n",
    "plt.title(\"Average Age of Each Team\")\n",
    "plt.savefig(\"AverageAge.jpg\")\n",
    "plt.show()"
   ]
  },
  {
   "cell_type": "code",
   "execution_count": null,
   "metadata": {},
   "outputs": [],
   "source": []
  }
 ],
 "metadata": {
  "kernelspec": {
   "display_name": "Python 3",
   "language": "python",
   "name": "python3"
  },
  "language_info": {
   "codemirror_mode": {
    "name": "ipython",
    "version": 3
   },
   "file_extension": ".py",
   "mimetype": "text/x-python",
   "name": "python",
   "nbconvert_exporter": "python",
   "pygments_lexer": "ipython3",
   "version": "3.7.4"
  }
 },
 "nbformat": 4,
 "nbformat_minor": 2
}
